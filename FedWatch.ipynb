{
 "cells": [
  {
   "cell_type": "code",
   "execution_count": null,
   "id": "edcae042",
   "metadata": {},
   "outputs": [],
   "source": [
    "# Sources : \n",
    "\n",
    "# Effective Federal Funds Rate (EFFR)\n",
    "# https://www.newyorkfed.org/markets/reference-rates/effr\n",
    "\n",
    "# Target Range of the Federal Funds Rate (FFTR)\n",
    "# https://www.federalreserve.gov/economy-at-a-glance-policy-rate.htm\n",
    "\n",
    "# TBOND\n",
    "# https://home.treasury.gov/resource-center/data-chart-center/interest-rates/TextView?type=daily_treasury_yield_curve&field_tdr_date_value=2025\n",
    "\n",
    "# ARIMA model\n",
    "# https://www.statsmodels.org/stable/generated/statsmodels.tsa.arima.model.ARIMA.html"
   ]
  },
  {
   "cell_type": "code",
   "execution_count": null,
   "id": "d1290c4e",
   "metadata": {},
   "outputs": [],
   "source": [
    "# créer une fonction de scraping sur les EFFR\n",
    "# \"https://markets.newyorkfed.org/read?startDt=2000-01-01&endDt=2025-01-01&eventCodes=500&productCode=50&sort=postDt:-1,eventCode:1&format=csv\""
   ]
  },
  {
   "cell_type": "code",
   "execution_count": 457,
   "id": "7688165e",
   "metadata": {},
   "outputs": [
    {
     "name": "stdout",
     "output_type": "stream",
     "text": [
      "Collecting git+https://github.com/Matteo-Bernard/EcoWatch.git\n",
      "  Cloning https://github.com/Matteo-Bernard/EcoWatch.git to c:\\users\\matteo\\appdata\\local\\temp\\pip-req-build-io_g3dcd\n",
      "  Resolved https://github.com/Matteo-Bernard/EcoWatch.git to commit 9b81f5596a38fb7f16e7ab8bd60a6f33bb8eb9a0\n",
      "  Installing build dependencies: started\n",
      "  Installing build dependencies: finished with status 'done'\n",
      "  Getting requirements to build wheel: started\n",
      "  Getting requirements to build wheel: finished with status 'done'\n",
      "  Preparing metadata (pyproject.toml): started\n",
      "  Preparing metadata (pyproject.toml): finished with status 'done'\n",
      "Requirement already satisfied: pandas in c:\\users\\matteo\\appdata\\local\\packages\\pythonsoftwarefoundation.python.3.11_qbz5n2kfra8p0\\localcache\\local-packages\\python311\\site-packages (from EcoWatch==0.0.1) (2.2.3)\n",
      "Requirement already satisfied: numpy in c:\\users\\matteo\\appdata\\local\\packages\\pythonsoftwarefoundation.python.3.11_qbz5n2kfra8p0\\localcache\\local-packages\\python311\\site-packages (from EcoWatch==0.0.1) (2.2.1)\n",
      "Requirement already satisfied: typing in c:\\users\\matteo\\appdata\\local\\packages\\pythonsoftwarefoundation.python.3.11_qbz5n2kfra8p0\\localcache\\local-packages\\python311\\site-packages (from EcoWatch==0.0.1) (3.7.4.3)\n",
      "Requirement already satisfied: scipy in c:\\users\\matteo\\appdata\\local\\packages\\pythonsoftwarefoundation.python.3.11_qbz5n2kfra8p0\\localcache\\local-packages\\python311\\site-packages (from EcoWatch==0.0.1) (1.14.1)\n",
      "Requirement already satisfied: matplotlib in c:\\users\\matteo\\appdata\\local\\packages\\pythonsoftwarefoundation.python.3.11_qbz5n2kfra8p0\\localcache\\local-packages\\python311\\site-packages (from EcoWatch==0.0.1) (3.10.0)\n",
      "Requirement already satisfied: contourpy>=1.0.1 in c:\\users\\matteo\\appdata\\local\\packages\\pythonsoftwarefoundation.python.3.11_qbz5n2kfra8p0\\localcache\\local-packages\\python311\\site-packages (from matplotlib->EcoWatch==0.0.1) (1.3.1)\n",
      "Requirement already satisfied: cycler>=0.10 in c:\\users\\matteo\\appdata\\local\\packages\\pythonsoftwarefoundation.python.3.11_qbz5n2kfra8p0\\localcache\\local-packages\\python311\\site-packages (from matplotlib->EcoWatch==0.0.1) (0.12.1)\n",
      "Requirement already satisfied: fonttools>=4.22.0 in c:\\users\\matteo\\appdata\\local\\packages\\pythonsoftwarefoundation.python.3.11_qbz5n2kfra8p0\\localcache\\local-packages\\python311\\site-packages (from matplotlib->EcoWatch==0.0.1) (4.55.3)\n",
      "Requirement already satisfied: kiwisolver>=1.3.1 in c:\\users\\matteo\\appdata\\local\\packages\\pythonsoftwarefoundation.python.3.11_qbz5n2kfra8p0\\localcache\\local-packages\\python311\\site-packages (from matplotlib->EcoWatch==0.0.1) (1.4.8)\n",
      "Requirement already satisfied: packaging>=20.0 in c:\\users\\matteo\\appdata\\local\\packages\\pythonsoftwarefoundation.python.3.11_qbz5n2kfra8p0\\localcache\\local-packages\\python311\\site-packages (from matplotlib->EcoWatch==0.0.1) (24.2)\n",
      "Requirement already satisfied: pillow>=8 in c:\\users\\matteo\\appdata\\local\\packages\\pythonsoftwarefoundation.python.3.11_qbz5n2kfra8p0\\localcache\\local-packages\\python311\\site-packages (from matplotlib->EcoWatch==0.0.1) (11.0.0)\n",
      "Requirement already satisfied: pyparsing>=2.3.1 in c:\\users\\matteo\\appdata\\local\\packages\\pythonsoftwarefoundation.python.3.11_qbz5n2kfra8p0\\localcache\\local-packages\\python311\\site-packages (from matplotlib->EcoWatch==0.0.1) (3.2.0)\n",
      "Requirement already satisfied: python-dateutil>=2.7 in c:\\users\\matteo\\appdata\\local\\packages\\pythonsoftwarefoundation.python.3.11_qbz5n2kfra8p0\\localcache\\local-packages\\python311\\site-packages (from matplotlib->EcoWatch==0.0.1) (2.9.0.post0)\n",
      "Requirement already satisfied: pytz>=2020.1 in c:\\users\\matteo\\appdata\\local\\packages\\pythonsoftwarefoundation.python.3.11_qbz5n2kfra8p0\\localcache\\local-packages\\python311\\site-packages (from pandas->EcoWatch==0.0.1) (2024.2)\n",
      "Requirement already satisfied: tzdata>=2022.7 in c:\\users\\matteo\\appdata\\local\\packages\\pythonsoftwarefoundation.python.3.11_qbz5n2kfra8p0\\localcache\\local-packages\\python311\\site-packages (from pandas->EcoWatch==0.0.1) (2024.2)\n",
      "Requirement already satisfied: six>=1.5 in c:\\users\\matteo\\appdata\\local\\packages\\pythonsoftwarefoundation.python.3.11_qbz5n2kfra8p0\\localcache\\local-packages\\python311\\site-packages (from python-dateutil>=2.7->matplotlib->EcoWatch==0.0.1) (1.17.0)\n",
      "Note: you may need to restart the kernel to use updated packages.\n"
     ]
    },
    {
     "name": "stderr",
     "output_type": "stream",
     "text": [
      "  Running command git clone --filter=blob:none --quiet https://github.com/Matteo-Bernard/EcoWatch.git 'C:\\Users\\Matteo\\AppData\\Local\\Temp\\pip-req-build-io_g3dcd'\n"
     ]
    }
   ],
   "source": [
    "pip install --upgrade git+https://github.com/Matteo-Bernard/EcoWatch.git"
   ]
  },
  {
   "cell_type": "code",
   "execution_count": 458,
   "id": "20e4fe65",
   "metadata": {},
   "outputs": [],
   "source": [
    "from EcoWatch.NelsonSiegelCurvature import NSC\n",
    "from EcoWatch.Scraping import tbond\n",
    "import pandas as pd\n",
    "import numpy as np"
   ]
  },
  {
   "cell_type": "markdown",
   "id": "0d29a833",
   "metadata": {},
   "source": [
    "### Scraping endogène and inendogène datas"
   ]
  },
  {
   "cell_type": "code",
   "execution_count": 459,
   "id": "f8b7ab54",
   "metadata": {},
   "outputs": [],
   "source": [
    "effr = pd.read_csv('overnight_rates.csv', index_col='Effective Date')\n",
    "effr.index = pd.to_datetime(effr.index, format='mixed')\n",
    "effr = effr[effr['Rate Type'] == 'EFFR']['Rate (%)']\n",
    "effr = effr.sort_index()\n",
    "effr = effr.resample('W').last()\n",
    "effr.name = 'effr'"
   ]
  },
  {
   "cell_type": "code",
   "execution_count": 460,
   "id": "4a47492a",
   "metadata": {},
   "outputs": [],
   "source": [
    "tbonds = tbond('2000', '2025')\n",
    "tbonds = tbonds.drop(['20 Yr', '30 Yr', '1.5 Month'], axis=1) # Drop the 20 and 30 year maturities and the 1.5 month maturity\n",
    "tbonds = tbonds.interpolate(axis=1) # Interpolate missing values\n",
    "tbonds = tbonds.dropna(axis=0)\n",
    "tbonds = tbonds.resample('W').last()\n",
    "\n",
    "# Define the maturities of the US Treasury Bonds\n",
    "maturities = np.unique([\n",
    "    int(col.split()[0]) / 12 if \"Mo\" in col else int(col.split()[0])\n",
    "    for col in tbonds.columns\n",
    "])\n",
    "\n",
    "# Define the curve maturities\n",
    "curve_maturities = np.arange(start=maturities.min(), stop=maturities.max()+maturities.min(), step=maturities.min()).round(4)"
   ]
  },
  {
   "cell_type": "markdown",
   "id": "74d4841a",
   "metadata": {},
   "source": [
    "### Feature Engineering"
   ]
  },
  {
   "cell_type": "code",
   "execution_count": 461,
   "id": "11ed1136",
   "metadata": {},
   "outputs": [
    {
     "name": "stderr",
     "output_type": "stream",
     "text": [
      "Fitting Nelson-Siegel: 221it [00:21,  6.36it/s]C:\\Users\\Matteo\\AppData\\Local\\Packages\\PythonSoftwareFoundation.Python.3.11_qbz5n2kfra8p0\\LocalCache\\local-packages\\Python311\\site-packages\\scipy\\optimize\\_differentiable_functions.py:316: UserWarning: delta_grad == 0.0. Check if the approximated function is linear. If the function is linear better results can be obtained by defining the Hessian as zero instead of using quasi-Newton approximations.\n",
      "  self.H.update(self.x - self.x_prev, self.g - self.g_prev)\n",
      "Fitting Nelson-Siegel: 244it [00:24, 10.11it/s]C:\\Users\\Matteo\\AppData\\Local\\Packages\\PythonSoftwareFoundation.Python.3.11_qbz5n2kfra8p0\\LocalCache\\local-packages\\Python311\\site-packages\\scipy\\optimize\\_differentiable_functions.py:316: UserWarning: delta_grad == 0.0. Check if the approximated function is linear. If the function is linear better results can be obtained by defining the Hessian as zero instead of using quasi-Newton approximations.\n",
      "  self.H.update(self.x - self.x_prev, self.g - self.g_prev)\n",
      "Fitting Nelson-Siegel: 314it [00:33,  8.42it/s]C:\\Users\\Matteo\\AppData\\Local\\Packages\\PythonSoftwareFoundation.Python.3.11_qbz5n2kfra8p0\\LocalCache\\local-packages\\Python311\\site-packages\\scipy\\optimize\\_differentiable_functions.py:316: UserWarning: delta_grad == 0.0. Check if the approximated function is linear. If the function is linear better results can be obtained by defining the Hessian as zero instead of using quasi-Newton approximations.\n",
      "  self.H.update(self.x - self.x_prev, self.g - self.g_prev)\n",
      "Fitting Nelson-Siegel: 379it [00:40,  8.18it/s]C:\\Users\\Matteo\\AppData\\Local\\Packages\\PythonSoftwareFoundation.Python.3.11_qbz5n2kfra8p0\\LocalCache\\local-packages\\Python311\\site-packages\\scipy\\optimize\\_differentiable_functions.py:316: UserWarning: delta_grad == 0.0. Check if the approximated function is linear. If the function is linear better results can be obtained by defining the Hessian as zero instead of using quasi-Newton approximations.\n",
      "  self.H.update(self.x - self.x_prev, self.g - self.g_prev)\n",
      "Fitting Nelson-Siegel: 698it [01:11, 11.22it/s]C:\\Users\\Matteo\\AppData\\Local\\Packages\\PythonSoftwareFoundation.Python.3.11_qbz5n2kfra8p0\\LocalCache\\local-packages\\Python311\\site-packages\\scipy\\optimize\\_differentiable_functions.py:316: UserWarning: delta_grad == 0.0. Check if the approximated function is linear. If the function is linear better results can be obtained by defining the Hessian as zero instead of using quasi-Newton approximations.\n",
      "  self.H.update(self.x - self.x_prev, self.g - self.g_prev)\n",
      "Fitting Nelson-Siegel: 748it [01:16,  9.80it/s]C:\\Users\\Matteo\\AppData\\Local\\Packages\\PythonSoftwareFoundation.Python.3.11_qbz5n2kfra8p0\\LocalCache\\local-packages\\Python311\\site-packages\\scipy\\optimize\\_differentiable_functions.py:316: UserWarning: delta_grad == 0.0. Check if the approximated function is linear. If the function is linear better results can be obtained by defining the Hessian as zero instead of using quasi-Newton approximations.\n",
      "  self.H.update(self.x - self.x_prev, self.g - self.g_prev)\n",
      "Fitting Nelson-Siegel: 755it [01:17,  7.44it/s]C:\\Users\\Matteo\\AppData\\Local\\Packages\\PythonSoftwareFoundation.Python.3.11_qbz5n2kfra8p0\\LocalCache\\local-packages\\Python311\\site-packages\\scipy\\optimize\\_differentiable_functions.py:316: UserWarning: delta_grad == 0.0. Check if the approximated function is linear. If the function is linear better results can be obtained by defining the Hessian as zero instead of using quasi-Newton approximations.\n",
      "  self.H.update(self.x - self.x_prev, self.g - self.g_prev)\n",
      "Fitting Nelson-Siegel: 1074it [01:55, 11.02it/s]C:\\Users\\Matteo\\AppData\\Local\\Packages\\PythonSoftwareFoundation.Python.3.11_qbz5n2kfra8p0\\LocalCache\\local-packages\\Python311\\site-packages\\scipy\\optimize\\_differentiable_functions.py:316: UserWarning: delta_grad == 0.0. Check if the approximated function is linear. If the function is linear better results can be obtained by defining the Hessian as zero instead of using quasi-Newton approximations.\n",
      "  self.H.update(self.x - self.x_prev, self.g - self.g_prev)\n",
      "Fitting Nelson-Siegel: 1237it [02:10,  9.45it/s]\n"
     ]
    }
   ],
   "source": [
    "# Define parameter bounds for optimization: \n",
    "bounds = [(0, 1), (-1, 1), (-1, 1), (0, 5)] # Intercept (β0), Slope (β1), Curvature (β2), and Lambda (λ)\n",
    "x0 = [0.01, 0.01, 0.01, 0.5] # Initial guess for the optimization algorithm\n",
    "method = 'trust-constr' # Optimization method used for minimization\n",
    "\n",
    "# Create an instance of the Nelson-Siegel-Curvature class\n",
    "NelsonSiegelCurvature = NSC(maturities=maturities, bounds=bounds, x0=x0, method=method)\n",
    "\n",
    "# Adjust Nelson-Siegel parameters for the curve\n",
    "nsc = NelsonSiegelCurvature.fit(yields=tbonds)"
   ]
  },
  {
   "cell_type": "code",
   "execution_count": 462,
   "id": "ee340c82",
   "metadata": {},
   "outputs": [],
   "source": [
    "data = pd.concat([nsc.shift(-1), effr], axis=1).dropna()"
   ]
  },
  {
   "cell_type": "markdown",
   "id": "eee3be98",
   "metadata": {},
   "source": [
    "### Analyse de la stationarité de la série endogène (EFFR)"
   ]
  },
  {
   "cell_type": "code",
   "execution_count": 463,
   "id": "f9ea6eb0",
   "metadata": {},
   "outputs": [
    {
     "name": "stdout",
     "output_type": "stream",
     "text": [
      "ADF Statistic: -3.4165\n",
      "p-value: 0.0104\n",
      "Critical Values:\n",
      "   1% : -3.4356\n",
      "   5% : -2.8638\n",
      "   10% : -2.568\n"
     ]
    }
   ],
   "source": [
    "from statsmodels.tsa.stattools import adfuller\n",
    "\n",
    "result = adfuller(effr)\n",
    "print(f\"ADF Statistic: {round(result[0], 4)}\")\n",
    "print(f\"p-value: {round(result[1], 4)}\")\n",
    "print(\"Critical Values:\")\n",
    "for key, value in result[4].items():\n",
    "    print(f\"   {key} : {round(value, 4)}\")"
   ]
  },
  {
   "cell_type": "markdown",
   "id": "4e2dd7f5",
   "metadata": {},
   "source": [
    "Hypothèses du test ADF :    \n",
    "H0 (nulle) : la série est non stationnaire    \n",
    "H1 (alternative) : la série est stationnaire\n",
    "\n",
    "P-value < 0.05 --> H0 est rejetée à un seuil de 5%  \n",
    "\n",
    "Puisque la série endogène est stationnaire nous utiliserons un modèle ARIMAX"
   ]
  },
  {
   "cell_type": "markdown",
   "id": "e4bb2e6a",
   "metadata": {},
   "source": [
    "### Analyse des composantes p et q (ACF/PACF)"
   ]
  },
  {
   "cell_type": "code",
   "execution_count": 464,
   "id": "adae5f00",
   "metadata": {},
   "outputs": [
    {
     "data": {
      "image/png": "[encoded data removed]",
      "text/plain": [
       "<Figure size 640x480 with 1 Axes>"
      ]
     },
     "metadata": {},
     "output_type": "display_data"
    },
    {
     "data": {
      "image/png": "[encoded data removed]",
      "text/plain": [
       "<Figure size 640x480 with 1 Axes>"
      ]
     },
     "metadata": {},
     "output_type": "display_data"
    }
   ],
   "source": [
    "from statsmodels.graphics.tsaplots import plot_acf, plot_pacf\n",
    "import matplotlib.pyplot as plt\n",
    "\n",
    "plot_pacf(effr, lags=20)\n",
    "plot_acf(effr, lags=20)\n",
    "plt.show()"
   ]
  },
  {
   "cell_type": "markdown",
   "id": "e1012a4a",
   "metadata": {},
   "source": [
    "Estimation des ordres du modèle ARIMAX à la lecture des graphiques d'autocorrelation et d'autocorrelation partielle :    \n",
    "p => 2 car le PACF est significatif jusqu'au lag 2  \n",
    "d => 0 car la série est stationnaire    \n",
    "q => 0 car l'ACF ne montre pas de coupure nette "
   ]
  },
  {
   "cell_type": "markdown",
   "id": "0bd484c3",
   "metadata": {},
   "source": [
    "### Constrion du modèle ARIMAX"
   ]
  },
  {
   "cell_type": "code",
   "execution_count": 465,
   "id": "ecd9489a",
   "metadata": {},
   "outputs": [
    {
     "name": "stderr",
     "output_type": "stream",
     "text": [
      "C:\\Users\\Matteo\\AppData\\Local\\Packages\\PythonSoftwareFoundation.Python.3.11_qbz5n2kfra8p0\\LocalCache\\local-packages\\Python311\\site-packages\\statsmodels\\tsa\\statespace\\sarimax.py:966: UserWarning: Non-stationary starting autoregressive parameters found. Using zeros as starting parameters.\n",
      "  warn('Non-stationary starting autoregressive parameters'\n",
      "C:\\Users\\Matteo\\AppData\\Local\\Packages\\PythonSoftwareFoundation.Python.3.11_qbz5n2kfra8p0\\LocalCache\\local-packages\\Python311\\site-packages\\statsmodels\\tsa\\statespace\\sarimax.py:978: UserWarning: Non-invertible starting MA parameters found. Using zeros as starting parameters.\n",
      "  warn('Non-invertible starting MA parameters found.'\n"
     ]
    },
    {
     "name": "stdout",
     "output_type": "stream",
     "text": [
      "                               SARIMAX Results                                \n",
      "==============================================================================\n",
      "Dep. Variable:                   effr   No. Observations:                 1223\n",
      "Model:                 ARIMA(2, 0, 1)   Log Likelihood                 508.080\n",
      "Date:                Fri, 11 Apr 2025   AIC                          -1002.161\n",
      "Time:                        00:36:47   BIC                           -966.397\n",
      "Sample:                    08-05-2001   HQIC                          -988.702\n",
      "                         - 01-05-2025                                         \n",
      "Covariance Type:                  opg                                         \n",
      "==============================================================================\n",
      "                 coef    std err          z      P>|z|      [0.025      0.975]\n",
      "------------------------------------------------------------------------------\n",
      "Intercept    100.3314      1.647     60.931      0.000      97.104     103.559\n",
      "Slope         70.0181      1.043     67.105      0.000      67.973      72.063\n",
      "Curvature     19.9564      0.401     49.785      0.000      19.171      20.742\n",
      "ar.L1          1.4515      0.044     33.297      0.000       1.366       1.537\n",
      "ar.L2         -0.4587      0.042    -10.961      0.000      -0.541      -0.377\n",
      "ma.L1         -0.7080      0.039    -18.267      0.000      -0.784      -0.632\n",
      "sigma2         0.0257      0.001     40.366      0.000       0.024       0.027\n",
      "===================================================================================\n",
      "Ljung-Box (L1) (Q):                   0.07   Jarque-Bera (JB):              9507.53\n",
      "Prob(Q):                              0.79   Prob(JB):                         0.00\n",
      "Heteroskedasticity (H):               0.69   Skew:                             0.49\n",
      "Prob(H) (two-sided):                  0.00   Kurtosis:                        16.62\n",
      "===================================================================================\n",
      "\n",
      "Warnings:\n",
      "[1] Covariance matrix calculated using the outer product of gradients (complex-step).\n"
     ]
    },
    {
     "name": "stderr",
     "output_type": "stream",
     "text": [
      "C:\\Users\\Matteo\\AppData\\Local\\Packages\\PythonSoftwareFoundation.Python.3.11_qbz5n2kfra8p0\\LocalCache\\local-packages\\Python311\\site-packages\\statsmodels\\base\\model.py:607: ConvergenceWarning: Maximum Likelihood optimization failed to converge. Check mle_retvals\n",
      "  warnings.warn(\"Maximum Likelihood optimization failed to \"\n"
     ]
    }
   ],
   "source": [
    "from statsmodels.tsa.arima.model import ARIMA\n",
    "\n",
    "model = ARIMA(\n",
    "    endog=data['effr'], # Variable endogène\n",
    "    exog=data[['Intercept', 'Slope', 'Curvature']], # Variables exogènes\n",
    "    order=(2, 0, 1), # modèle ARIMA d'ordre (p, d, q)\n",
    "    trend='n', # Ne pas ajouter de tendance\n",
    ")\n",
    "model_fit = model.fit()\n",
    "print(model_fit.summary())"
   ]
  },
  {
   "cell_type": "markdown",
   "id": "c225c2d5",
   "metadata": {},
   "source": [
    "### Validation du modèle ARIMAX"
   ]
  },
  {
   "cell_type": "code",
   "execution_count": 466,
   "id": "ac5cbf11",
   "metadata": {},
   "outputs": [
    {
     "name": "stdout",
     "output_type": "stream",
     "text": [
      "      lb_stat  lb_pvalue\n",
      "10  20.831172   0.022302\n"
     ]
    },
    {
     "data": {
      "image/png": "[encoded data removed]",
      "text/plain": [
       "<Figure size 640x480 with 1 Axes>"
      ]
     },
     "metadata": {},
     "output_type": "display_data"
    }
   ],
   "source": [
    "residuals = model_fit.resid\n",
    "\n",
    "# Histogramme et QQ-plot\n",
    "residuals.plot(kind='kde', title='Distribution des résidus')\n",
    "\n",
    "# Test de Ljung-Box\n",
    "from statsmodels.stats.diagnostic import acorr_ljungbox\n",
    "print(acorr_ljungbox(residuals, lags=[10], return_df=True)) # à mettre au propre\n"
   ]
  },
  {
   "cell_type": "markdown",
   "id": "d3e9fa32",
   "metadata": {},
   "source": [
    "*Ajouter commentaire sur le bruit blanc*"
   ]
  },
  {
   "cell_type": "markdown",
   "id": "e617de18",
   "metadata": {},
   "source": [
    "### Prédictions à une semaine"
   ]
  },
  {
   "cell_type": "code",
   "execution_count": 467,
   "id": "6a0084e2",
   "metadata": {},
   "outputs": [
    {
     "data": {
      "text/plain": [
       "Intercept    0.049569\n",
       "Slope       -0.004664\n",
       "Curvature   -0.029788\n",
       "Lambda       1.622887\n",
       "Name: 2025-04-13 00:00:00, dtype: float64"
      ]
     },
     "execution_count": 467,
     "metadata": {},
     "output_type": "execute_result"
    }
   ],
   "source": [
    "nsc[['Intercept', 'Slope', 'Curvature', 'Lambda']].iloc[-1]"
   ]
  },
  {
   "cell_type": "code",
   "execution_count": 468,
   "id": "c755b24c",
   "metadata": {},
   "outputs": [
    {
     "name": "stdout",
     "output_type": "stream",
     "text": [
      "Prévision EFFR à 1 semaine : 5.448619454520926\n",
      "Intervalle de confiance à 95 % :\n",
      "            lower effr  upper effr\n",
      "2025-01-12     5.13444    5.762799\n"
     ]
    }
   ],
   "source": [
    "forecast = model_fit.get_forecast(steps=1, exog=nsc[['Intercept', 'Slope', 'Curvature']].iloc[-55])\n",
    "forecast_mean = forecast.predicted_mean\n",
    "forecast_ci = forecast.conf_int()\n",
    "\n",
    "print(\"Prévision EFFR à 1 semaine :\", forecast_mean.values[0])\n",
    "print(\"Intervalle de confiance à 95 % :\")\n",
    "print(forecast_ci)"
   ]
  },
  {
   "cell_type": "code",
   "execution_count": null,
   "id": "4868e78c",
   "metadata": {},
   "outputs": [],
   "source": []
  }
 ],
 "metadata": {
  "kernelspec": {
   "display_name": "Python 3",
   "language": "python",
   "name": "python3"
  },
  "language_info": {
   "codemirror_mode": {
    "name": "ipython",
    "version": 3
   },
   "file_extension": ".py",
   "mimetype": "text/x-python",
   "name": "python",
   "nbconvert_exporter": "python",
   "pygments_lexer": "ipython3",
   "version": "3.11.9"
  }
 },
 "nbformat": 4,
 "nbformat_minor": 5
}
