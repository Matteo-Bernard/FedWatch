{
 "cells": [
  {
   "cell_type": "code",
   "execution_count": 431,
   "id": "edcae042",
   "metadata": {},
   "outputs": [],
   "source": [
    "# Sources : \n",
    "\n",
    "# Effective Federal Funds Rate (EFFR)\n",
    "# https://www.newyorkfed.org/markets/reference-rates/effr\n",
    "\n",
    "# Target Range of the Federal Funds Rate (FFTR)\n",
    "# https://www.federalreserve.gov/economy-at-a-glance-policy-rate.htm\n",
    "\n",
    "# TBOND\n",
    "# https://home.treasury.gov/resource-center/data-chart-center/interest-rates/TextView?type=daily_treasury_yield_curve&field_tdr_date_value=2025"
   ]
  },
  {
   "cell_type": "code",
   "execution_count": 432,
   "id": "7688165e",
   "metadata": {},
   "outputs": [
    {
     "name": "stdout",
     "output_type": "stream",
     "text": [
      "Collecting git+https://github.com/Matteo-Bernard/EcoWatch.git\n",
      "  Cloning https://github.com/Matteo-Bernard/EcoWatch.git to c:\\users\\matteo\\appdata\\local\\temp\\pip-req-build-bp5vaagm\n",
      "  Resolved https://github.com/Matteo-Bernard/EcoWatch.git to commit 9b81f5596a38fb7f16e7ab8bd60a6f33bb8eb9a0\n",
      "  Installing build dependencies: started\n",
      "  Installing build dependencies: finished with status 'done'\n",
      "  Getting requirements to build wheel: started\n",
      "  Getting requirements to build wheel: finished with status 'done'\n",
      "  Preparing metadata (pyproject.toml): started\n",
      "  Preparing metadata (pyproject.toml): finished with status 'done'\n",
      "Requirement already satisfied: pandas in c:\\users\\matteo\\appdata\\local\\packages\\pythonsoftwarefoundation.python.3.11_qbz5n2kfra8p0\\localcache\\local-packages\\python311\\site-packages (from EcoWatch==0.0.1) (2.2.3)\n",
      "Requirement already satisfied: numpy in c:\\users\\matteo\\appdata\\local\\packages\\pythonsoftwarefoundation.python.3.11_qbz5n2kfra8p0\\localcache\\local-packages\\python311\\site-packages (from EcoWatch==0.0.1) (2.2.1)\n",
      "Requirement already satisfied: typing in c:\\users\\matteo\\appdata\\local\\packages\\pythonsoftwarefoundation.python.3.11_qbz5n2kfra8p0\\localcache\\local-packages\\python311\\site-packages (from EcoWatch==0.0.1) (3.7.4.3)\n",
      "Requirement already satisfied: scipy in c:\\users\\matteo\\appdata\\local\\packages\\pythonsoftwarefoundation.python.3.11_qbz5n2kfra8p0\\localcache\\local-packages\\python311\\site-packages (from EcoWatch==0.0.1) (1.14.1)\n",
      "Requirement already satisfied: matplotlib in c:\\users\\matteo\\appdata\\local\\packages\\pythonsoftwarefoundation.python.3.11_qbz5n2kfra8p0\\localcache\\local-packages\\python311\\site-packages (from EcoWatch==0.0.1) (3.10.0)\n",
      "Requirement already satisfied: contourpy>=1.0.1 in c:\\users\\matteo\\appdata\\local\\packages\\pythonsoftwarefoundation.python.3.11_qbz5n2kfra8p0\\localcache\\local-packages\\python311\\site-packages (from matplotlib->EcoWatch==0.0.1) (1.3.1)\n",
      "Requirement already satisfied: cycler>=0.10 in c:\\users\\matteo\\appdata\\local\\packages\\pythonsoftwarefoundation.python.3.11_qbz5n2kfra8p0\\localcache\\local-packages\\python311\\site-packages (from matplotlib->EcoWatch==0.0.1) (0.12.1)\n",
      "Requirement already satisfied: fonttools>=4.22.0 in c:\\users\\matteo\\appdata\\local\\packages\\pythonsoftwarefoundation.python.3.11_qbz5n2kfra8p0\\localcache\\local-packages\\python311\\site-packages (from matplotlib->EcoWatch==0.0.1) (4.55.3)\n",
      "Requirement already satisfied: kiwisolver>=1.3.1 in c:\\users\\matteo\\appdata\\local\\packages\\pythonsoftwarefoundation.python.3.11_qbz5n2kfra8p0\\localcache\\local-packages\\python311\\site-packages (from matplotlib->EcoWatch==0.0.1) (1.4.8)\n",
      "Requirement already satisfied: packaging>=20.0 in c:\\users\\matteo\\appdata\\local\\packages\\pythonsoftwarefoundation.python.3.11_qbz5n2kfra8p0\\localcache\\local-packages\\python311\\site-packages (from matplotlib->EcoWatch==0.0.1) (24.2)\n",
      "Requirement already satisfied: pillow>=8 in c:\\users\\matteo\\appdata\\local\\packages\\pythonsoftwarefoundation.python.3.11_qbz5n2kfra8p0\\localcache\\local-packages\\python311\\site-packages (from matplotlib->EcoWatch==0.0.1) (11.0.0)\n",
      "Requirement already satisfied: pyparsing>=2.3.1 in c:\\users\\matteo\\appdata\\local\\packages\\pythonsoftwarefoundation.python.3.11_qbz5n2kfra8p0\\localcache\\local-packages\\python311\\site-packages (from matplotlib->EcoWatch==0.0.1) (3.2.0)\n",
      "Requirement already satisfied: python-dateutil>=2.7 in c:\\users\\matteo\\appdata\\local\\packages\\pythonsoftwarefoundation.python.3.11_qbz5n2kfra8p0\\localcache\\local-packages\\python311\\site-packages (from matplotlib->EcoWatch==0.0.1) (2.9.0.post0)\n",
      "Requirement already satisfied: pytz>=2020.1 in c:\\users\\matteo\\appdata\\local\\packages\\pythonsoftwarefoundation.python.3.11_qbz5n2kfra8p0\\localcache\\local-packages\\python311\\site-packages (from pandas->EcoWatch==0.0.1) (2024.2)\n",
      "Requirement already satisfied: tzdata>=2022.7 in c:\\users\\matteo\\appdata\\local\\packages\\pythonsoftwarefoundation.python.3.11_qbz5n2kfra8p0\\localcache\\local-packages\\python311\\site-packages (from pandas->EcoWatch==0.0.1) (2024.2)\n",
      "Requirement already satisfied: six>=1.5 in c:\\users\\matteo\\appdata\\local\\packages\\pythonsoftwarefoundation.python.3.11_qbz5n2kfra8p0\\localcache\\local-packages\\python311\\site-packages (from python-dateutil>=2.7->matplotlib->EcoWatch==0.0.1) (1.17.0)\n",
      "Note: you may need to restart the kernel to use updated packages.\n"
     ]
    },
    {
     "name": "stderr",
     "output_type": "stream",
     "text": [
      "  Running command git clone --filter=blob:none --quiet https://github.com/Matteo-Bernard/EcoWatch.git 'C:\\Users\\Matteo\\AppData\\Local\\Temp\\pip-req-build-bp5vaagm'\n"
     ]
    }
   ],
   "source": [
    "pip install --upgrade git+https://github.com/Matteo-Bernard/EcoWatch.git"
   ]
  },
  {
   "cell_type": "code",
   "execution_count": 433,
   "id": "20e4fe65",
   "metadata": {},
   "outputs": [],
   "source": [
    "from EcoWatch.NelsonSiegelCurvature import NSC\n",
    "from EcoWatch.Scraping import fred\n",
    "from EcoWatch.Scraping import tbond\n",
    "import pandas as pd\n",
    "import numpy as np"
   ]
  },
  {
   "cell_type": "markdown",
   "id": "0d29a833",
   "metadata": {},
   "source": [
    "### Scraping endogène and inendogène datas"
   ]
  },
  {
   "cell_type": "code",
   "execution_count": 436,
   "id": "f8b7ab54",
   "metadata": {},
   "outputs": [],
   "source": [
    "effr = pd.read_csv('overnight_rates.csv', index_col='Effective Date')\n",
    "effr.index = pd.to_datetime(effr.index, format='mixed')\n",
    "effr = effr[effr['Rate Type'] == 'EFFR']['Rate (%)']\n",
    "effr = effr.sort_index()\n",
    "effr = effr.resample('W').last()\n",
    "effr.name = 'effr'"
   ]
  },
  {
   "cell_type": "code",
   "execution_count": 434,
   "id": "4a47492a",
   "metadata": {},
   "outputs": [],
   "source": [
    "tbonds = tbond('2010', '2025')\n",
    "tbonds = tbonds.drop(['20 Yr', '30 Yr', '1.5 Month'], axis=1) # Drop the 20 and 30 year maturities and the 1.5 month maturity\n",
    "tbonds = tbonds.interpolate(axis=1) # Interpolate missing values\n",
    "tbonds = tbonds.dropna(axis=0)\n",
    "tbonds = tbonds.resample('W').last()\n",
    "\n",
    "# Define the maturities of the US Treasury Bonds\n",
    "maturities = np.unique([\n",
    "    int(col.split()[0]) / 12 if \"Mo\" in col else int(col.split()[0])\n",
    "    for col in tbonds.columns\n",
    "])\n",
    "\n",
    "# Define the curve maturities\n",
    "curve_maturities = np.arange(start=maturities.min(), stop=maturities.max()+maturities.min(), step=maturities.min()).round(4)"
   ]
  },
  {
   "cell_type": "markdown",
   "id": "74d4841a",
   "metadata": {},
   "source": [
    "### Feature Engineering"
   ]
  },
  {
   "cell_type": "code",
   "execution_count": 437,
   "id": "11ed1136",
   "metadata": {},
   "outputs": [
    {
     "name": "stderr",
     "output_type": "stream",
     "text": [
      "Fitting Nelson-Siegel: 257it [00:24, 10.97it/s]C:\\Users\\Matteo\\AppData\\Local\\Packages\\PythonSoftwareFoundation.Python.3.11_qbz5n2kfra8p0\\LocalCache\\local-packages\\Python311\\site-packages\\scipy\\optimize\\_differentiable_functions.py:316: UserWarning: delta_grad == 0.0. Check if the approximated function is linear. If the function is linear better results can be obtained by defining the Hessian as zero instead of using quasi-Newton approximations.\n",
      "  self.H.update(self.x - self.x_prev, self.g - self.g_prev)\n",
      "Fitting Nelson-Siegel: 308it [00:29,  9.07it/s]C:\\Users\\Matteo\\AppData\\Local\\Packages\\PythonSoftwareFoundation.Python.3.11_qbz5n2kfra8p0\\LocalCache\\local-packages\\Python311\\site-packages\\scipy\\optimize\\_differentiable_functions.py:316: UserWarning: delta_grad == 0.0. Check if the approximated function is linear. If the function is linear better results can be obtained by defining the Hessian as zero instead of using quasi-Newton approximations.\n",
      "  self.H.update(self.x - self.x_prev, self.g - self.g_prev)\n",
      "Fitting Nelson-Siegel: 315it [00:30,  6.89it/s]C:\\Users\\Matteo\\AppData\\Local\\Packages\\PythonSoftwareFoundation.Python.3.11_qbz5n2kfra8p0\\LocalCache\\local-packages\\Python311\\site-packages\\scipy\\optimize\\_differentiable_functions.py:316: UserWarning: delta_grad == 0.0. Check if the approximated function is linear. If the function is linear better results can be obtained by defining the Hessian as zero instead of using quasi-Newton approximations.\n",
      "  self.H.update(self.x - self.x_prev, self.g - self.g_prev)\n",
      "Fitting Nelson-Siegel: 634it [01:06, 11.59it/s]C:\\Users\\Matteo\\AppData\\Local\\Packages\\PythonSoftwareFoundation.Python.3.11_qbz5n2kfra8p0\\LocalCache\\local-packages\\Python311\\site-packages\\scipy\\optimize\\_differentiable_functions.py:316: UserWarning: delta_grad == 0.0. Check if the approximated function is linear. If the function is linear better results can be obtained by defining the Hessian as zero instead of using quasi-Newton approximations.\n",
      "  self.H.update(self.x - self.x_prev, self.g - self.g_prev)\n",
      "Fitting Nelson-Siegel: 797it [01:21,  9.74it/s]\n"
     ]
    }
   ],
   "source": [
    "# Define parameter bounds for optimization: \n",
    "bounds = [(0, 1), (-1, 1), (-1, 1), (0, 5)] # Intercept (β0), Slope (β1), Curvature (β2), and Lambda (λ)\n",
    "x0 = [0.01, 0.01, 0.01, 0.5] # Initial guess for the optimization algorithm\n",
    "method = 'trust-constr' # Optimization method used for minimization\n",
    "\n",
    "# Create an instance of the Nelson-Siegel-Curvature class\n",
    "NelsonSiegelCurvature = NSC(maturities=maturities, bounds=bounds, x0=x0, method=method)\n",
    "\n",
    "# Adjust Nelson-Siegel parameters for the curve\n",
    "nsc = NelsonSiegelCurvature.fit(yields=tbonds)\n",
    "\n",
    "nsc.reset_index().to_csv('nsc wekly 2000-2025.csv', index=False)"
   ]
  },
  {
   "cell_type": "code",
   "execution_count": 438,
   "id": "ee340c82",
   "metadata": {},
   "outputs": [],
   "source": [
    "data = pd.concat([nsc.shift(-1), effr], axis=1).dropna()"
   ]
  },
  {
   "cell_type": "markdown",
   "id": "eee3be98",
   "metadata": {},
   "source": [
    "### Analyse de la stationarité de la série endogène (EFFR)"
   ]
  },
  {
   "cell_type": "code",
   "execution_count": 439,
   "id": "f9ea6eb0",
   "metadata": {},
   "outputs": [
    {
     "name": "stdout",
     "output_type": "stream",
     "text": [
      "ADF Statistic: -3.4165\n",
      "p-value: 0.0104\n",
      "Critical Values:\n",
      "   1% : -3.4356\n",
      "   5% : -2.8638\n",
      "   10% : -2.568\n"
     ]
    }
   ],
   "source": [
    "from statsmodels.tsa.stattools import adfuller\n",
    "\n",
    "result = adfuller(effr)\n",
    "print(f\"ADF Statistic: {round(result[0], 4)}\")\n",
    "print(f\"p-value: {round(result[1], 4)}\")\n",
    "print(\"Critical Values:\")\n",
    "for key, value in result[4].items():\n",
    "    print(f\"   {key} : {round(value, 4)}\")"
   ]
  },
  {
   "cell_type": "markdown",
   "id": "4e2dd7f5",
   "metadata": {},
   "source": [
    "Hypothèses du test ADF :    \n",
    "H0 (nulle) : la série est non stationnaire    \n",
    "H1 (alternative) : la série est stationnaire\n",
    "\n",
    "P-value < 0.05 --> H0 est rejetée à un seuil de 5%  \n",
    "\n",
    "Puisque la série endogène est stationnaire nous utiliserons un modèle ARIMAX"
   ]
  },
  {
   "cell_type": "markdown",
   "id": "e4bb2e6a",
   "metadata": {},
   "source": [
    "### Analyse des composantes p et q (ACF/PACF)"
   ]
  },
  {
   "cell_type": "code",
   "execution_count": 440,
   "id": "adae5f00",
   "metadata": {},
   "outputs": [
    {
     "data": {
      "image/png": "[encoded data removed]",
      "text/plain": [
       "<Figure size 640x480 with 1 Axes>"
      ]
     },
     "metadata": {},
     "output_type": "display_data"
    },
    {
     "data": {
      "image/png": "[encoded data removed]",
      "text/plain": [
       "<Figure size 640x480 with 1 Axes>"
      ]
     },
     "metadata": {},
     "output_type": "display_data"
    }
   ],
   "source": [
    "from statsmodels.graphics.tsaplots import plot_acf, plot_pacf\n",
    "import matplotlib.pyplot as plt\n",
    "\n",
    "plot_pacf(effr, lags=20)\n",
    "plot_acf(effr, lags=20)\n",
    "plt.show()"
   ]
  },
  {
   "cell_type": "markdown",
   "id": "e1012a4a",
   "metadata": {},
   "source": [
    "Estimation des ordres du modèle ARIMAX à la lecture des graphiques d'autocorrelation et d'autocorrelation partielle :    \n",
    "p => 2 car le PACF est significatif jusqu'au lag 2  \n",
    "d => 0 car la série est stationnaire    \n",
    "q => 0 car l'ACF ne montre pas de coupure nette "
   ]
  },
  {
   "cell_type": "markdown",
   "id": "0bd484c3",
   "metadata": {},
   "source": [
    "### Constrion du modèle ARIMAX"
   ]
  },
  {
   "cell_type": "code",
   "execution_count": 441,
   "id": "ecd9489a",
   "metadata": {},
   "outputs": [
    {
     "name": "stdout",
     "output_type": "stream",
     "text": [
      "                               SARIMAX Results                                \n",
      "==============================================================================\n",
      "Dep. Variable:                   effr   No. Observations:                  783\n",
      "Model:                 ARIMA(2, 0, 1)   Log Likelihood                 815.900\n",
      "Date:                Fri, 11 Apr 2025   AIC                          -1617.801\n",
      "Time:                        00:28:12   BIC                          -1585.159\n",
      "Sample:                    01-10-2010   HQIC                         -1605.249\n",
      "                         - 01-05-2025                                         \n",
      "Covariance Type:                  opg                                         \n",
      "==============================================================================\n",
      "                 coef    std err          z      P>|z|      [0.025      0.975]\n",
      "------------------------------------------------------------------------------\n",
      "Intercept      1.1317      2.362      0.479      0.632      -3.498       5.761\n",
      "Slope          1.3891      1.697      0.819      0.413      -1.937       4.715\n",
      "Curvature     -0.1998      0.544     -0.367      0.714      -1.266       0.867\n",
      "ar.L1          1.9996      0.001   2012.802      0.000       1.998       2.002\n",
      "ar.L2         -0.9996      0.001  -1014.554      0.000      -1.002      -0.998\n",
      "ma.L1         -0.9999      0.065    -15.405      0.000      -1.127      -0.873\n",
      "sigma2         0.0072      0.000     17.347      0.000       0.006       0.008\n",
      "===================================================================================\n",
      "Ljung-Box (L1) (Q):                   0.58   Jarque-Bera (JB):            100899.13\n",
      "Prob(Q):                              0.45   Prob(JB):                         0.00\n",
      "Heteroskedasticity (H):              53.56   Skew:                             1.82\n",
      "Prob(H) (two-sided):                  0.00   Kurtosis:                        58.49\n",
      "===================================================================================\n",
      "\n",
      "Warnings:\n",
      "[1] Covariance matrix calculated using the outer product of gradients (complex-step).\n"
     ]
    },
    {
     "name": "stderr",
     "output_type": "stream",
     "text": [
      "C:\\Users\\Matteo\\AppData\\Local\\Packages\\PythonSoftwareFoundation.Python.3.11_qbz5n2kfra8p0\\LocalCache\\local-packages\\Python311\\site-packages\\statsmodels\\base\\model.py:607: ConvergenceWarning: Maximum Likelihood optimization failed to converge. Check mle_retvals\n",
      "  warnings.warn(\"Maximum Likelihood optimization failed to \"\n"
     ]
    }
   ],
   "source": [
    "from statsmodels.tsa.arima.model import ARIMA\n",
    "\n",
    "model = ARIMA(\n",
    "    endog=data['effr'], # Variable endogène\n",
    "    exog=data[['Intercept', 'Slope', 'Curvature']], # Variables exogènes\n",
    "    order=(2, 0, 1), # modèle ARIMA d'ordre (p, d, q)\n",
    "    trend='n', # Ne pas ajouter de tendance\n",
    ")\n",
    "model_fit = model.fit()\n",
    "print(model_fit.summary())"
   ]
  },
  {
   "cell_type": "markdown",
   "id": "c225c2d5",
   "metadata": {},
   "source": [
    "### Validation du modèle ARIMAX"
   ]
  },
  {
   "cell_type": "code",
   "execution_count": 442,
   "id": "ac5cbf11",
   "metadata": {},
   "outputs": [
    {
     "name": "stdout",
     "output_type": "stream",
     "text": [
      "      lb_stat     lb_pvalue\n",
      "10  115.97196  3.315570e-20\n"
     ]
    },
    {
     "data": {
      "image/png": "[encoded data removed]",
      "text/plain": [
       "<Figure size 640x480 with 1 Axes>"
      ]
     },
     "metadata": {},
     "output_type": "display_data"
    }
   ],
   "source": [
    "residuals = model_fit.resid\n",
    "\n",
    "# Histogramme et QQ-plot\n",
    "residuals.plot(kind='kde', title='Distribution des résidus')\n",
    "\n",
    "# Test de Ljung-Box\n",
    "from statsmodels.stats.diagnostic import acorr_ljungbox\n",
    "print(acorr_ljungbox(residuals, lags=[10], return_df=True)) # à mettre au propre\n"
   ]
  },
  {
   "cell_type": "markdown",
   "id": "d3e9fa32",
   "metadata": {},
   "source": [
    "*Ajouter commentaire sur le bruit blanc*"
   ]
  },
  {
   "cell_type": "markdown",
   "id": "e617de18",
   "metadata": {},
   "source": [
    "### Prédictions à une semaine"
   ]
  },
  {
   "cell_type": "code",
   "execution_count": 443,
   "id": "6a0084e2",
   "metadata": {},
   "outputs": [
    {
     "data": {
      "text/plain": [
       "Intercept    0.049569\n",
       "Slope       -0.004664\n",
       "Curvature   -0.029788\n",
       "Lambda       1.622887\n",
       "Name: 2025-04-13 00:00:00, dtype: float64"
      ]
     },
     "execution_count": 443,
     "metadata": {},
     "output_type": "execute_result"
    }
   ],
   "source": [
    "nsc[['Intercept', 'Slope', 'Curvature', 'Lambda']].iloc[-1]"
   ]
  },
  {
   "cell_type": "code",
   "execution_count": 453,
   "id": "c755b24c",
   "metadata": {},
   "outputs": [
    {
     "name": "stdout",
     "output_type": "stream",
     "text": [
      "Prévision EFFR à 1 semaine : 4.324057530984343\n",
      "Intervalle de confiance à 95 % :\n",
      "            lower effr  upper effr\n",
      "2025-01-12     4.15777    4.490345\n"
     ]
    }
   ],
   "source": [
    "forecast = model_fit.get_forecast(steps=1, exog=nsc[['Intercept', 'Slope', 'Curvature']].iloc[-10])\n",
    "forecast_mean = forecast.predicted_mean\n",
    "forecast_ci = forecast.conf_int()\n",
    "\n",
    "print(\"Prévision EFFR à 1 semaine :\", forecast_mean.values[0])\n",
    "print(\"Intervalle de confiance à 95 % :\")\n",
    "print(forecast_ci)"
   ]
  },
  {
   "cell_type": "code",
   "execution_count": 452,
   "id": "5e7a9fe7",
   "metadata": {},
   "outputs": [
    {
     "data": {
      "text/plain": [
       "Effective Date\n",
       "2024-11-03    4.83\n",
       "2024-11-10    4.58\n",
       "2024-11-17    4.58\n",
       "2024-11-24    4.58\n",
       "2024-12-01    4.58\n",
       "2024-12-08    4.58\n",
       "2024-12-15    4.58\n",
       "2024-12-22    4.33\n",
       "2024-12-29    4.33\n",
       "2025-01-05    4.33\n",
       "Freq: W-SUN, Name: effr, dtype: float64"
      ]
     },
     "execution_count": 452,
     "metadata": {},
     "output_type": "execute_result"
    }
   ],
   "source": [
    "effr.tail(10)"
   ]
  },
  {
   "cell_type": "code",
   "execution_count": null,
   "id": "4868e78c",
   "metadata": {},
   "outputs": [],
   "source": []
  }
 ],
 "metadata": {
  "kernelspec": {
   "display_name": "Python 3",
   "language": "python",
   "name": "python3"
  },
  "language_info": {
   "codemirror_mode": {
    "name": "ipython",
    "version": 3
   },
   "file_extension": ".py",
   "mimetype": "text/x-python",
   "name": "python",
   "nbconvert_exporter": "python",
   "pygments_lexer": "ipython3",
   "version": "3.11.9"
  }
 },
 "nbformat": 4,
 "nbformat_minor": 5
}
