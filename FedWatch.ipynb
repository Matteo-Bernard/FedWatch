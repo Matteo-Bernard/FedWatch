{
 "cells": [
  {
   "cell_type": "code",
   "execution_count": null,
   "id": "edcae042",
   "metadata": {},
   "outputs": [],
   "source": [
    "# EFFR\n",
    "# https://www.newyorkfed.org/markets/reference-rates/effr\n",
    "\n",
    "# Settlements FFF\n",
    "# https://my.apps.factset.com/workstation/navigator/company-security/futures-montage/FF00-USA"
   ]
  },
  {
   "cell_type": "code",
   "execution_count": 2,
   "id": "20e4fe65",
   "metadata": {},
   "outputs": [],
   "source": [
    "from EcoWatch.NelsonSiegelCurvature import NSC\n",
    "from EcoWatch.Scraping import tbond\n",
    "import pandas as pd\n",
    "import numpy as np"
   ]
  },
  {
   "cell_type": "code",
   "execution_count": 3,
   "id": "11ed1136",
   "metadata": {},
   "outputs": [
    {
     "name": "stderr",
     "output_type": "stream",
     "text": [
      "Fitting Nelson-Siegel: 665it [01:01, 12.42it/s]C:\\Users\\Matteo\\AppData\\Local\\Packages\\PythonSoftwareFoundation.Python.3.11_qbz5n2kfra8p0\\LocalCache\\local-packages\\Python311\\site-packages\\scipy\\optimize\\_differentiable_functions.py:316: UserWarning: delta_grad == 0.0. Check if the approximated function is linear. If the function is linear better results can be obtained by defining the Hessian as zero instead of using quasi-Newton approximations.\n",
      "  self.H.update(self.x - self.x_prev, self.g - self.g_prev)\n",
      "Fitting Nelson-Siegel: 791it [01:12, 11.71it/s]C:\\Users\\Matteo\\AppData\\Local\\Packages\\PythonSoftwareFoundation.Python.3.11_qbz5n2kfra8p0\\LocalCache\\local-packages\\Python311\\site-packages\\scipy\\optimize\\_differentiable_functions.py:316: UserWarning: delta_grad == 0.0. Check if the approximated function is linear. If the function is linear better results can be obtained by defining the Hessian as zero instead of using quasi-Newton approximations.\n",
      "  self.H.update(self.x - self.x_prev, self.g - self.g_prev)\n",
      "Fitting Nelson-Siegel: 793it [01:12,  9.91it/s]C:\\Users\\Matteo\\AppData\\Local\\Packages\\PythonSoftwareFoundation.Python.3.11_qbz5n2kfra8p0\\LocalCache\\local-packages\\Python311\\site-packages\\scipy\\optimize\\_differentiable_functions.py:316: UserWarning: delta_grad == 0.0. Check if the approximated function is linear. If the function is linear better results can be obtained by defining the Hessian as zero instead of using quasi-Newton approximations.\n",
      "  self.H.update(self.x - self.x_prev, self.g - self.g_prev)\n",
      "C:\\Users\\Matteo\\AppData\\Local\\Packages\\PythonSoftwareFoundation.Python.3.11_qbz5n2kfra8p0\\LocalCache\\local-packages\\Python311\\site-packages\\scipy\\optimize\\_differentiable_functions.py:316: UserWarning: delta_grad == 0.0. Check if the approximated function is linear. If the function is linear better results can be obtained by defining the Hessian as zero instead of using quasi-Newton approximations.\n",
      "  self.H.update(self.x - self.x_prev, self.g - self.g_prev)\n",
      "Fitting Nelson-Siegel: 1169it [01:43, 12.19it/s]C:\\Users\\Matteo\\AppData\\Local\\Packages\\PythonSoftwareFoundation.Python.3.11_qbz5n2kfra8p0\\LocalCache\\local-packages\\Python311\\site-packages\\scipy\\optimize\\_differentiable_functions.py:316: UserWarning: delta_grad == 0.0. Check if the approximated function is linear. If the function is linear better results can be obtained by defining the Hessian as zero instead of using quasi-Newton approximations.\n",
      "  self.H.update(self.x - self.x_prev, self.g - self.g_prev)\n",
      "Fitting Nelson-Siegel: 1925it [02:53, 11.07it/s]\n"
     ]
    }
   ],
   "source": [
    "tbond_daiy = tbond('2020', '2025')\n",
    "tbond_daiy = tbond_daiy.drop(['20 Yr', '30 Yr', '1.5 Month'], axis=1)\n",
    "tbond_daiy = tbond_daiy.interpolate(axis=1)\n",
    "tbond_daiy = tbond_daiy.dropna(axis=0)\n",
    "\n",
    "# Define the maturities of the US Treasury Bonds\n",
    "maturities = np.unique([\n",
    "    int(col.split()[0]) / 12 if \"Mo\" in col else int(col.split()[0])\n",
    "    for col in tbond_daiy.columns\n",
    "])\n",
    "# Define the curve maturities\n",
    "curve_maturities = np.arange(start=maturities.min(), stop=maturities.max()+maturities.min(), step=maturities.min()).round(4)\n",
    "\n",
    "# Define parameter bounds for optimization: \n",
    "bounds = [(0, 1), (-1, 1), (-1, 1), (0, 5)] # Intercept (β0), Slope (β1), Curvature (β2), and Lambda (λ)\n",
    "x0 = [0.01, 0.01, 0.01, 0.5] # Initial guess for the optimization algorithm\n",
    "method = 'trust-constr' # Optimization method used for minimization\n",
    "\n",
    "# Initialisation du modèle\n",
    "NelsonSiegelCurvature = NSC(maturities=maturities, bounds=bounds, x0=x0, method=method)\n",
    "\n",
    "# Ajustement des paramètres Nelson-Siegel\n",
    "nsc_df = NelsonSiegelCurvature.fit(yields=tbond_daiy)"
   ]
  },
  {
   "cell_type": "code",
   "execution_count": 4,
   "id": "5f0c5410",
   "metadata": {},
   "outputs": [],
   "source": [
    "nsc_df.reset_index().to_csv('nsc.csv', index=False)"
   ]
  },
  {
   "cell_type": "code",
   "execution_count": 24,
   "id": "2f6deb38",
   "metadata": {},
   "outputs": [],
   "source": [
    "buckets = {\n",
    "    \"0.00–0.25\": 0.125,\n",
    "    \"0.25–0.50\": 0.375,\n",
    "    \"0.50–0.75\": 0.625,\n",
    "    \"0.75–1.00\": 0.875,\n",
    "    \"1.00–1.25\": 1.125,\n",
    "    \"1.25–1.50\": 1.375,\n",
    "    \"1.50–1.75\": 1.625,\n",
    "    \"1.75–2.00\": 1.875,\n",
    "    \"2.00–2.25\": 2.125,\n",
    "    \"2.25–2.50\": 2.375,\n",
    "    \"2.50–2.75\": 2.625,\n",
    "    \"2.75–3.00\": 2.875,\n",
    "    \"3.00–3.25\": 3.125,\n",
    "    \"3.25–3.50\": 3.375,\n",
    "    \"3.50–3.75\": 3.625,\n",
    "    \"3.75–4.00\": 3.875,\n",
    "    \"4.00–4.25\": 4.125,\n",
    "    \"4.25–4.50\": 4.375,\n",
    "    \"4.50–4.75\": 4.625,\n",
    "    \"4.75–5.00\": 4.875,\n",
    "    \"5.00–5.25\": 5.125,\n",
    "    \"5.25–5.50\": 5.375,\n",
    "    \"5.50–5.75\": 5.625,\n",
    "    \"5.75–6.00\": 5.875,\n",
    "    \"6.00–6.25\": 6.125,\n",
    "    \"6.25–6.50\": 6.375,\n",
    "    \"6.50–6.75\": 6.625,\n",
    "    \"6.75–7.00\": 6.875,\n",
    "}"
   ]
  },
  {
   "cell_type": "code",
   "execution_count": 46,
   "id": "4736b439",
   "metadata": {},
   "outputs": [],
   "source": [
    "buckets = {\n",
    "    \"4.00–4.25\": 4.125,\n",
    "    \"4.25–4.50\": 4.375,\n",
    "    \"4.50–4.75\": 4.625\n",
    "}"
   ]
  },
  {
   "cell_type": "code",
   "execution_count": 47,
   "id": "7af6fba1",
   "metadata": {},
   "outputs": [],
   "source": [
    "effr = pd.read_csv('overnight_rates.csv', index_col='Effective Date')\n",
    "effr.index = pd.to_datetime(effr.index, format='mixed')\n",
    "effr = effr[effr['Rate Type'] == 'EFFR']['Rate (%)']\n",
    "effr = effr.sort_index()"
   ]
  },
  {
   "cell_type": "code",
   "execution_count": 49,
   "id": "d613b926",
   "metadata": {},
   "outputs": [
    {
     "name": "stdout",
     "output_type": "stream",
     "text": [
      "{'4.00–4.25': np.float64(0.4233), '4.25–4.50': np.float64(0.3333), '4.50–4.75': np.float64(0.2433)}\n"
     ]
    }
   ],
   "source": [
    "import numpy as np\n",
    "from scipy.optimize import minimize\n",
    "\n",
    "# Buckets (milieux des intervalles en taux annualisé)\n",
    "bucket_centers = np.array([bucket for bucket in buckets.values()])\n",
    "n = len(bucket_centers)\n",
    "\n",
    "# Taux moyen implicite à partir du contrat (ex : prix = 95.7 → 4.3%)\n",
    "avg_rate = effr.iloc[-1]\n",
    "\n",
    "# Fonction objectif : on veut minimiser ||p||² → probas \"lisses\"\n",
    "def objective(p):\n",
    "    return np.sum(p**2)\n",
    "\n",
    "# Contraintes\n",
    "def probas_sum_to_1(p):\n",
    "    return np.sum(p) - 1\n",
    "\n",
    "def mean_matches_future(p):\n",
    "    return np.dot(p, bucket_centers) - avg_rate\n",
    "\n",
    "# Dictionnaire de contraintes pour minimize\n",
    "constraints = [\n",
    "    {'type': 'eq', 'fun': probas_sum_to_1},\n",
    "    {'type': 'eq', 'fun': mean_matches_future},\n",
    "]\n",
    "\n",
    "# Bornes : toutes les probas entre 0 et 1\n",
    "bounds = [(0, 1)] * n\n",
    "\n",
    "# Initial guess : uniform distribution\n",
    "p0 = np.ones(n) / n\n",
    "\n",
    "# Optimisation\n",
    "result = minimize(objective, p0, bounds=bounds, constraints=constraints)\n",
    "\n",
    "# Résultat\n",
    "if result.success:\n",
    "    proba_buckets = {f\"{bucket_centers[i]-0.125:.2f}–{bucket_centers[i]+0.125:.2f}\": round(p, 4)\n",
    "                     for i, p in enumerate(result.x)}\n",
    "    print(proba_buckets)\n",
    "else:\n",
    "    print(\"Optimisation échouée :\", result.message)\n"
   ]
  },
  {
   "cell_type": "code",
   "execution_count": null,
   "id": "69da7f87",
   "metadata": {},
   "outputs": [],
   "source": [
    "#fed_funds = fred(key=fred_key, ticker='FEDFUNDS')/100"
   ]
  }
 ],
 "metadata": {
  "kernelspec": {
   "display_name": "Python 3",
   "language": "python",
   "name": "python3"
  },
  "language_info": {
   "codemirror_mode": {
    "name": "ipython",
    "version": 3
   },
   "file_extension": ".py",
   "mimetype": "text/x-python",
   "name": "python",
   "nbconvert_exporter": "python",
   "pygments_lexer": "ipython3",
   "version": "3.11.9"
  }
 },
 "nbformat": 4,
 "nbformat_minor": 5
}
